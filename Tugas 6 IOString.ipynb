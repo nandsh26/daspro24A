{
 "cells": [
  {
   "cell_type": "markdown",
   "id": "385f41e1-1868-4995-9daf-20a9cfc37521",
   "metadata": {},
   "source": [
    "1. Buatlah biodata sederhana dengan menggunakan fungsi input(), dan output variabel dengan fungsi format()."
   ]
  },
  {
   "cell_type": "code",
   "execution_count": 9,
   "id": "6b33ba9a-95f8-4cd9-ae4b-2b87c52520d6",
   "metadata": {},
   "outputs": [
    {
     "name": "stdin",
     "output_type": "stream",
     "text": [
      "Isikan Nama Anda: Nanda\n"
     ]
    },
    {
     "name": "stdout",
     "output_type": "stream",
     "text": [
      "Selamat datang, Nanda!. Silahkan untuk mengisi biodata Anda!\n",
      "--------------------------------------------------------------\n"
     ]
    },
    {
     "name": "stdin",
     "output_type": "stream",
     "text": [
      "Isikan Nama Lengkap                    : Nanda Sawaliah\n",
      "Isikan Tempat Lahir                    : Cibadak\n",
      "Isikan Tanggal Lahir                   : 10 November 2002\n",
      "Isikan Jenis Kelamin                   : Perempuan\n",
      "Isikan Alamat                          : Nagrak\n",
      "Isikan Status Mahasiswa (Aktif/Alumni) : Aktif\n",
      "Isikan Nama Universitas                : Universitas Nusa Putra\n",
      "Isikan Jurusan Anda                    : Teknik Informatika\n"
     ]
    },
    {
     "name": "stdout",
     "output_type": "stream",
     "text": [
      "\n",
      "---------- Biodata Sederhana ----------\n",
      "Nama Lengkap                    : Nanda Sawaliah\n",
      "Tempat, Tanggal Lahir           : Cibadak, 10 November 2002\n",
      "Jenis Kelamin                   : Perempuan\n",
      "Alamat                          : Nagrak\n",
      "Status Mahasiswa (Aktif/Alumni) : Aktif\n",
      "Nama Universitas                : Universitas Nusa Putra\n",
      "Jurusan                         : Teknik Informatika\n"
     ]
    }
   ],
   "source": [
    "name = input (\"Isikan Nama Anda:\")\n",
    "print (\"Selamat datang,\", name + \"!.\", \"Silahkan untuk mengisi biodata Anda!\")\n",
    "print (\"--------------------------------------------------------------\")\n",
    "lengkapNama = input(\"Isikan Nama Lengkap                    :\")\n",
    "tempatLahir = input(\"Isikan Tempat Lahir                    :\")\n",
    "tanggalLahir = input(\"Isikan Tanggal Lahir                   :\")\n",
    "gender = input (\"Isikan Jenis Kelamin                   :\")\n",
    "alamat = input(\"Isikan Alamat                          :\")\n",
    "status = input(\"Isikan Status Mahasiswa (Aktif/Alumni) :\")\n",
    "univ = input(\"Isikan Nama Universitas                :\")\n",
    "jurusan = input(\"Isikan Jurusan Anda                    :\")\n",
    "\n",
    "print (\"\\n---------- Biodata Sederhana ----------\")\n",
    "print (\"Nama Lengkap                    : {}\".format (lengkapNama))\n",
    "print (\"Tempat, Tanggal Lahir           : {}, {}\".format(tempatLahir,tanggalLahir))\n",
    "print (\"Jenis Kelamin                   : {}\".format (gender))\n",
    "print (\"Alamat                          : {}\".format(alamat))\n",
    "print (\"Status Mahasiswa (Aktif/Alumni) : {}\".format(status))\n",
    "print (\"Nama Universitas                : {}\".format( univ))\n",
    "print (\"Jurusan                         : {}\".format(jurusan))"
   ]
  },
  {
   "cell_type": "markdown",
   "id": "662d5012-3510-4fd4-858d-aae26961241c",
   "metadata": {},
   "source": [
    "2. Jika terdapat kalimat UNIVERSITAS NUSA PUTRA SUKABUMI ,buatlah kode program untuk menampilkan output:\n",
    "    1. putra nusa\n",
    "    2. NIVERSITAS NSA PTRA SKABMI\n",
    "    3. SUKABUMI PUTRA NUSA UNIVERSITAS\n",
    "    4. UNPS\n",
    "    5. TAS SAPU BUMI\n"
   ]
  },
  {
   "cell_type": "markdown",
   "id": "57e86577-4d1d-4242-a479-ea37788b84c1",
   "metadata": {},
   "source": [
    "<h5>Saya kerjakan dengan 4 cara. Sebenarnya hanya 2 cara yang sedikit berbeda, untuk 2 lainnya hanya berbeda di input kalimatnya saja</h5>"
   ]
  },
  {
   "cell_type": "code",
   "execution_count": 160,
   "id": "7d508614-5a23-4fde-9a9a-76b6ebea89e9",
   "metadata": {},
   "outputs": [
    {
     "name": "stdout",
     "output_type": "stream",
     "text": [
      "Kalimat: UNIVERSITAS NUSA PUTRA SUKABUMI\n",
      "1. putra nusa\n",
      "2. NIVERSITAS NSA PTRA SKABMI\n",
      "3. SUKABUMI PUTRA NUSA UNIVERSITAS\n",
      "4. UNPS\n",
      "5. TAS SAPU BUMI\n"
     ]
    }
   ],
   "source": [
    "satKal = \"UNIVERSITAS\"\n",
    "duKal = \"NUSA\"\n",
    "tiKal = \"PUTRA\"\n",
    "emKal = \"SUKABUMI\"\n",
    "print (\"Kalimat:\",satKal,duKal,tiKal,emKal)\n",
    "\n",
    "print (\"1. {2} {1}\". format (satKal.lower(),duKal.lower(),tiKal.lower(),emKal.lower()))\n",
    "print(\"2.\", satKal.replace(\"U\",\"\")  + \" \" + duKal.replace(\"U\",\"\") + \" \" + tiKal.replace(\"U\",\"\") + \" \" + emKal.replace(\"U\",\"\"))\n",
    "print (\"3. {belakang} {tengah2} {tengah1} {depan}\". format (depan=satKal,tengah1=duKal,tengah2=tiKal,belakang=emKal))\n",
    "print(\"4.\", satKal[0] + duKal[0] + tiKal[0] + emKal[0])\n",
    "print(\"5.\", satKal[8:],duKal[2:] + tiKal[:2],emKal[4:])"
   ]
  },
  {
   "cell_type": "code",
   "execution_count": 161,
   "id": "946b6bcb-e607-40f0-94e9-0ce05e050046",
   "metadata": {},
   "outputs": [
    {
     "name": "stdin",
     "output_type": "stream",
     "text": [
      "Isikan Kalimat Depan: UNIVERSITAS\n",
      "Isikan Kalimat Tengah Pertama: NUSA\n",
      "Isikan Kalimat Tengah kedua: PUTRA\n",
      "Isikan Kalimat Belakang: SUKABUMI\n"
     ]
    },
    {
     "name": "stdout",
     "output_type": "stream",
     "text": [
      "1. putra nusa\n",
      "2. NIVERSITAS NSA PTRA SKABMI\n",
      "3. SUKABUMI PUTRA NUSA UNIVERSITAS\n",
      "4. UNPS\n",
      "5. TAS SAPU BUMI\n"
     ]
    }
   ],
   "source": [
    "satKal = input(\"Isikan Kalimat Depan:\")\n",
    "duKal = input(\"Isikan Kalimat Tengah Pertama:\")\n",
    "tiKal = input(\"Isikan Kalimat Tengah kedua:\")\n",
    "emKal = input(\"Isikan Kalimat Belakang:\")\n",
    "\n",
    "print (\"1. {2} {1}\". format (satKal.lower(),duKal.lower(),tiKal.lower(),emKal.lower()))\n",
    "print(\"2.\", satKal.replace(\"U\",\"\")  + \" \" + duKal.replace(\"U\",\"\") + \" \" + tiKal.replace(\"U\",\"\") + \" \" + emKal.replace(\"U\",\"\"))\n",
    "print (\"3. {belakang} {tengah2} {tengah1} {depan}\". format (depan=satKal,tengah1=duKal,tengah2=tiKal,belakang=emKal))\n",
    "print(\"4.\", satKal[0] + duKal[0] + tiKal[0] + emKal[0])\n",
    "print(\"5.\", satKal[8:],duKal[2:] + tiKal[:2],emKal[4:])"
   ]
  },
  {
   "cell_type": "code",
   "execution_count": 167,
   "id": "ccfad625-2b78-4e09-9159-e67991dc625f",
   "metadata": {},
   "outputs": [
    {
     "name": "stdout",
     "output_type": "stream",
     "text": [
      "UNIVERSITAS NUSA PUTRA SUKABUMI\n",
      "1. PUTRA NUSA\n",
      "2. NIVERSITAS NSA PTRA SKABMI\n",
      "3. SUKABUMI PUTRA NUSA UNIVERSITAS\n",
      "4. UNPS\n",
      "5. TAS SAPU BUMI\n"
     ]
    }
   ],
   "source": [
    "fullKal = \"UNIVERSITAS NUSA PUTRA SUKABUMI\"\n",
    "print (fullKal)\n",
    "kalimat = fullKal.split(' ')\n",
    "\n",
    "print(\"1.\", kalimat[2],kalimat[1])\n",
    "print(\"2.\", kalimat[0].replace(\"U\", \"\") + \" \" + kalimat[1].replace(\"U\", \"\") + \" \" + kalimat[2].replace(\"U\", \"\") + \" \" + kalimat[3].replace(\"U\", \"\"))\n",
    "print(\"3.\", kalimat[3],kalimat[2],kalimat[1],kalimat[0])\n",
    "print(\"4.\", kalimat[0][0] + kalimat[1][0] + kalimat[2][0] + kalimat[3][0])\n",
    "print(\"5.\", kalimat[0][8:], kalimat[1][2:] + kalimat [2][:2], kalimat[3][4:])"
   ]
  },
  {
   "cell_type": "code",
   "execution_count": 168,
   "id": "e04f06a9-2d2c-487b-9e66-193b9c05a40b",
   "metadata": {},
   "outputs": [
    {
     "name": "stdin",
     "output_type": "stream",
     "text": [
      "Isikan 4 Kalimat Lengkap: UNIVERSITAS NUSA PUTRA SUKABUMI\n"
     ]
    },
    {
     "name": "stdout",
     "output_type": "stream",
     "text": [
      "1. PUTRA NUSA\n",
      "2. NIVERSITAS NSA PTRA SKABMI\n",
      "3. SUKABUMI PUTRA NUSA UNIVERSITAS\n",
      "4. UNPS\n",
      "5. TAS SAPU BUMI\n"
     ]
    }
   ],
   "source": [
    "fullKal = input(\"Isikan 4 Kalimat Lengkap:\")\n",
    "\n",
    "kalimat = fullKal.split(' ')\n",
    "print(\"1.\", kalimat[2],kalimat[1])\n",
    "print(\"2.\", kalimat[0].replace(\"U\", \"\") + \" \" + kalimat[1].replace(\"U\", \"\") + \" \" + kalimat[2].replace(\"U\", \"\") + \" \" + kalimat[3].replace(\"U\", \"\"))\n",
    "print(\"3.\", kalimat[3],kalimat[2],kalimat[1],kalimat[0])\n",
    "print(\"4.\", kalimat[0][0] + kalimat[1][0] + kalimat[2][0] + kalimat[3][0])\n",
    "print(\"5.\", kalimat[0][8:], kalimat[1][2:] + kalimat [2][:2], kalimat[3][4:])"
   ]
  }
 ],
 "metadata": {
  "kernelspec": {
   "display_name": "Python 3 (ipykernel)",
   "language": "python",
   "name": "python3"
  },
  "language_info": {
   "codemirror_mode": {
    "name": "ipython",
    "version": 3
   },
   "file_extension": ".py",
   "mimetype": "text/x-python",
   "name": "python",
   "nbconvert_exporter": "python",
   "pygments_lexer": "ipython3",
   "version": "3.12.7"
  }
 },
 "nbformat": 4,
 "nbformat_minor": 5
}
