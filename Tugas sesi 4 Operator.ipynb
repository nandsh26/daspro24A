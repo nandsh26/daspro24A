{
 "cells": [
  {
   "cell_type": "markdown",
   "id": "494804b8-d02f-4b4f-a5f0-ec4ae359483d",
   "metadata": {},
   "source": [
    "<h1>1. Operator Aritmatika</h1>"
   ]
  },
  {
   "cell_type": "code",
   "execution_count": 9,
   "id": "d86d2c4c-25e9-40d2-bc07-14e628bedc9c",
   "metadata": {},
   "outputs": [
    {
     "name": "stdout",
     "output_type": "stream",
     "text": [
      "a. Jika Budi memiliki 12 apel, maka setiap teman budi akan mendapatkan 3 buah apel\n",
      "b. Jika budi diberi 8 apel tambahan, maka total buah apel yang dimiliki Budi yaitu 20 buah apel\n"
     ]
    }
   ],
   "source": [
    "apelBudi = 12\n",
    "temanBudi = 4\n",
    "apelTambahan = 8\n",
    "\n",
    "print (\"a. Jika Budi memiliki 12 apel, maka setiap teman budi akan mendapatkan\", apelBudi//temanBudi, \"buah apel\")\n",
    "\n",
    "print (\"b. Jika budi diberi 8 apel tambahan, maka total buah apel yang dimiliki Budi yaitu\", apelBudi + apelTambahan, \"buah apel\")"
   ]
  },
  {
   "cell_type": "markdown",
   "id": "cc79d2bc-f30d-4864-9c30-78c2e7ab8593",
   "metadata": {},
   "source": [
    "<h1>2. Operator Perbandingan</h1>"
   ]
  },
  {
   "cell_type": "code",
   "execution_count": 24,
   "id": "883ba552-ab95-48c0-9e3f-7747a7284ff5",
   "metadata": {},
   "outputs": [
    {
     "name": "stdout",
     "output_type": "stream",
     "text": [
      "Apakah tinggi Siti = tinggi Andi?: False\n",
      "Apakah tinggi Siti != tinggi Andi?: True\n",
      "Apakah tinggi Siti > tinggi Andi?: False\n",
      "Apakah tinggi Siti >= tinggi Andi?: False\n",
      "Apakah tinggi Siti < tinggi Andi?: True\n",
      "Apakah tinggi Siti <= tinggi Andi?: True\n",
      "jadi yang memiliki tinggi badan lebih tinggi antara Siti dan Andi adalah  Andi\n"
     ]
    }
   ],
   "source": [
    "tinggiSiti = 160\n",
    "tinggiAndi = 165\n",
    "\n",
    "print (\"Apakah tinggi Siti = tinggi Andi?:\", tinggiSiti==tinggiAndi)\n",
    "print (\"Apakah tinggi Siti != tinggi Andi?:\", tinggiSiti!=tinggiAndi)\n",
    "print (\"Apakah tinggi Siti > tinggi Andi?:\", tinggiSiti>tinggiAndi)\n",
    "print (\"Apakah tinggi Siti >= tinggi Andi?:\", tinggiSiti>=tinggiAndi)\n",
    "print (\"Apakah tinggi Siti < tinggi Andi?:\", tinggiSiti<tinggiAndi)\n",
    "print (\"Apakah tinggi Siti <= tinggi Andi?:\", tinggiSiti<=tinggiAndi)\n",
    "\n",
    "print(\"jadi yang memiliki tinggi badan lebih tinggi antara Siti dan Andi adalah \", \"Andi\" if tinggiAndi > tinggiSiti else \"Siti\")"
   ]
  },
  {
   "cell_type": "markdown",
   "id": "a7b268b1-91b3-4f9f-8f17-05dfc6929d99",
   "metadata": {},
   "source": [
    "<h1>3. Operator Logika</h1>"
   ]
  },
  {
   "cell_type": "code",
   "execution_count": 22,
   "id": "47b28ec6-52c7-4388-bdd1-861e0b63989e",
   "metadata": {},
   "outputs": [
    {
     "name": "stdout",
     "output_type": "stream",
     "text": [
      "Apakah Budi bisa bermain di luar? True\n"
     ]
    }
   ],
   "source": [
    "cuacaCerah = True  \n",
    "prSelesai = True   \n",
    "\n",
    "bisaBermain = cuacaCerah and prSelesai  \n",
    "print(\"Apakah Budi bisa bermain di luar?\", bisaBermain )"
   ]
  },
  {
   "cell_type": "markdown",
   "id": "7ac33516-c3d4-4c11-8a97-0a2e8a68eee4",
   "metadata": {},
   "source": [
    "<h1>4. Operator Bitwise</h1>"
   ]
  },
  {
   "cell_type": "code",
   "execution_count": 26,
   "id": "fc60fe3c-dcca-4ecb-96fe-e94bc1c46c39",
   "metadata": {},
   "outputs": [
    {
     "name": "stdout",
     "output_type": "stream",
     "text": [
      "Biner dari  6 : 0b110\n",
      "Biner dari  3 : 0b11\n",
      "0b110\n",
      "0b11\n",
      "------- &\n",
      "0b10\n",
      "Hasil desimalnya adalah:  2\n",
      "0b110\n",
      "0b11\n",
      "------- |\n",
      "0b111\n",
      "Hasil desimalnya adalah:  7\n",
      "0b110\n",
      "0b11\n",
      "------- ^\n",
      "0b101\n",
      "Hasil desimalnya adalah:  5\n"
     ]
    }
   ],
   "source": [
    "num1 = 6\n",
    "num2 = 3\n",
    "print (\"Biner dari \", num1,\":\", bin (num1))\n",
    "print (\"Biner dari \", num2,\":\", bin (num2))\n",
    "\n",
    "#Bitwise &\n",
    "bitwiseAnd = num1 & num2\n",
    "print (bin(num1))\n",
    "print (bin(num2))\n",
    "print (\"------- &\")\n",
    "print (bin(bitwiseAnd))\n",
    "print (\"Hasil desimalnya adalah: \", bitwiseAnd)\n",
    "\n",
    "#Bitwise Or (|)\n",
    "bitwiseOr = num1|num2\n",
    "print (bin(num1))\n",
    "print (bin(num2))\n",
    "print (\"------- |\")\n",
    "print (bin(bitwiseOr))\n",
    "print (\"Hasil desimalnya adalah: \", bitwiseOr)\n",
    "\n",
    "#Bitwise XOR (^)\n",
    "bitwiseXor = num1^num2\n",
    "print (bin(num1))\n",
    "print (bin(num2))\n",
    "print (\"------- ^\")\n",
    "print (bin(bitwiseXor))\n",
    "print (\"Hasil desimalnya adalah: \", bitwiseXor)\n"
   ]
  },
  {
   "cell_type": "markdown",
   "id": "2a1e50ca-af30-4892-aa54-a717cb881d3b",
   "metadata": {},
   "source": [
    "<h1>5. Operator Penugasan</h1>"
   ]
  },
  {
   "cell_type": "code",
   "execution_count": 30,
   "id": "ecbc80ac-ff4c-4831-b674-6a1e8a185329",
   "metadata": {},
   "outputs": [
    {
     "name": "stdout",
     "output_type": "stream",
     "text": [
      "Saldo pulsa awal yang dimiliki Siswa  : 50000\n",
      "Saldo pulsa setelah ditambahkan saldo : 70000\n",
      "Saldo pulsa setelah dibelikan paket internet:  40000\n",
      "Maka sisa saldo pulsa yang dimiliki siswa adalah 40000\n"
     ]
    }
   ],
   "source": [
    "saldoSiswa = 50000\n",
    "isiSaldo = 20000\n",
    "paketInternet = 30000\n",
    "\n",
    "print(\"Saldo pulsa awal yang dimiliki Siswa  :\", saldoSiswa)\n",
    "saldoSiswa+=isiSaldo\n",
    "print(\"Saldo pulsa setelah ditambahkan saldo :\", saldoSiswa)\n",
    "saldoSiswa-=paketInternet\n",
    "print(\"Saldo pulsa setelah dibelikan paket internet: \", saldoSiswa)\n",
    "\n",
    "print (\"Maka sisa saldo pulsa yang dimiliki siswa adalah\", saldoSiswa)"
   ]
  },
  {
   "cell_type": "markdown",
   "id": "0dcea750-f082-4928-939e-85abc37cb120",
   "metadata": {},
   "source": [
    "<h1>6. Operator Keanggotaan</h1>"
   ]
  },
  {
   "cell_type": "code",
   "execution_count": 42,
   "id": "1157ae67-5c42-41ca-8023-3c491189bd25",
   "metadata": {},
   "outputs": [
    {
     "name": "stdout",
     "output_type": "stream",
     "text": [
      "Apakah Eka terdaftar? False\n",
      "Apakah kata pyhton ada di kalimat True\n"
     ]
    }
   ],
   "source": [
    "nama = \"Eka\"\n",
    "listPeserta = [\"Andi\",\"Budi\",\"Citra\",\"Dewi\"]\n",
    "\n",
    "print(\"Apakah Eka terdaftar?\",nama in listPeserta)\n",
    "\n",
    "kalimat = \"Saya suka belajar bahasa pyhton\"\n",
    "cariKata = \"pyhton\"\n",
    "\n",
    "print(\"Apakah kata\",cariKata,\"ada di kalimat\",cariKata in kalimat)"
   ]
  },
  {
   "cell_type": "markdown",
   "id": "a96a528c-978c-44f4-a92c-3964e5e05d4a",
   "metadata": {},
   "source": [
    "<h1>7. Operator Identitas</h1>"
   ]
  },
  {
   "cell_type": "code",
   "execution_count": 76,
   "id": "64af4654-3a8a-41b2-aa9b-ee9400c2dd95",
   "metadata": {},
   "outputs": [
    {
     "name": "stdout",
     "output_type": "stream",
     "text": [
      "Apakah x dan y merujuk ke objek yang sama dalam memori? True\n",
      "Apakah x dan y di list tersebut mengacu ke objek yang sama True\n",
      "Apakah list1 dan list2 mengacu ke objek yang sama False\n"
     ]
    }
   ],
   "source": [
    "x = 15\n",
    "y = 15\n",
    "print (\"Apakah x dan y merujuk ke objek yang sama dalam memori?\", x is y)\n",
    "\n",
    "x =\"Nanda\"\n",
    "y =\"Nanda\"\n",
    "\n",
    "print (\"Apakah x dan y di list tersebut mengacu ke objek yang sama\", x is y)\n",
    "\n",
    "list1 = [\"Nanda\", \"Meysha\", \"Dhea\", \"Clara\"]\n",
    "list2 = [\"Nanda\", \"Meysha\", \"Dhea\", \"Clara\"]\n",
    "\n",
    "print (\"Apakah list1 dan list2 mengacu ke objek yang sama\", list1 is list2)"
   ]
  },
  {
   "cell_type": "markdown",
   "id": "f4b2060a-2614-4192-85fa-f1178cc1b6d2",
   "metadata": {},
   "source": [
    "<h1>8. Operator Ternary</h1>"
   ]
  },
  {
   "cell_type": "code",
   "execution_count": 55,
   "id": "1a277035-90c6-43af-acbb-9729dcf92848",
   "metadata": {},
   "outputs": [
    {
     "name": "stdin",
     "output_type": "stream",
     "text": [
      "Masukkan angka: 83\n"
     ]
    },
    {
     "name": "stdout",
     "output_type": "stream",
     "text": [
      "Angka tidak lebih besar dari 100\n"
     ]
    },
    {
     "name": "stdin",
     "output_type": "stream",
     "text": [
      "Masukkan Nilai Ujian: 70\n"
     ]
    },
    {
     "name": "stdout",
     "output_type": "stream",
     "text": [
      "Lulus\n"
     ]
    }
   ],
   "source": [
    "angka = int (input(\"Masukkan angka:\"))\n",
    "hasil = \"Angka lebih besar dari 100\" if angka > 100 else \"Angka tidak lebih besar dari 100\"\n",
    "print(hasil)\n",
    "\n",
    "nilaiUjian= int (input(\"Masukkan Nilai Ujian:\"))\n",
    "\n",
    "kelulusan = \"Lulus\" if angka > 70 else \"Tidak lulus\" \n",
    "print(kelulusan)"
   ]
  }
 ],
 "metadata": {
  "kernelspec": {
   "display_name": "Python 3 (ipykernel)",
   "language": "python",
   "name": "python3"
  },
  "language_info": {
   "codemirror_mode": {
    "name": "ipython",
    "version": 3
   },
   "file_extension": ".py",
   "mimetype": "text/x-python",
   "name": "python",
   "nbconvert_exporter": "python",
   "pygments_lexer": "ipython3",
   "version": "3.12.7"
  }
 },
 "nbformat": 4,
 "nbformat_minor": 5
}
