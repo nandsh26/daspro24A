{
 "cells": [
  {
   "cell_type": "code",
   "execution_count": null,
   "id": "cfbc909f-fbc4-47cb-8ed9-6adfdcbfe174",
   "metadata": {},
   "outputs": [
    {
     "name": "stdout",
     "output_type": "stream",
     "text": [
      "\n",
      "===== SISTEM E-VOTING =====\n",
      "1. Daftar Pemilih\n",
      "2. Daftar Calon Ketua\n",
      "3. Voting\n",
      "4. Tampilkan Hasil Sementara\n",
      "5. Statistik Pemilu\n",
      "6. Keluar\n"
     ]
    }
   ],
   "source": [
    "from modul import pemilih, calon, voting, statistik\n",
    "\n",
    "def main():\n",
    "    while True:\n",
    "        print(\"\\n===== SISTEM E-VOTING =====\")\n",
    "        print(\"1. Daftar Pemilih\")\n",
    "        print(\"2. Daftar Calon Ketua\")\n",
    "        print(\"3. Voting\")\n",
    "        print(\"4. Tampilkan Hasil Sementara\")\n",
    "        print(\"5. Statistik Pemilu\")\n",
    "        print(\"6. Keluar\")\n",
    "\n",
    "        pilihan = input(\"Pilih menu (1-6): \")\n",
    "\n",
    "        if pilihan == \"1\":\n",
    "            pemilih.tambah_pemilih()\n",
    "        elif pilihan == \"2\":\n",
    "            calon.tambah_calon()\n",
    "        elif pilihan == \"3\":\n",
    "            voting.lakukan_voting()\n",
    "        elif pilihan == \"4\":\n",
    "            voting.tampilkan_hasil()\n",
    "        elif pilihan == \"5\":\n",
    "            statistik.tampilkan_statistik()\n",
    "        elif pilihan == \"6\":\n",
    "            print(\"Terima kasih!\")\n",
    "            break\n",
    "        else:\n",
    "            print(\"Pilihan tidak valid.\")\n",
    "\n",
    "if __name__ == \"__main__\":\n",
    "    main()"
   ]
  }
 ],
 "metadata": {
  "kernelspec": {
   "display_name": "Python 3 (ipykernel)",
   "language": "python",
   "name": "python3"
  },
  "language_info": {
   "codemirror_mode": {
    "name": "ipython",
    "version": 3
   },
   "file_extension": ".py",
   "mimetype": "text/x-python",
   "name": "python",
   "nbconvert_exporter": "python",
   "pygments_lexer": "ipython3",
   "version": "3.12.7"
  }
 },
 "nbformat": 4,
 "nbformat_minor": 5
}
